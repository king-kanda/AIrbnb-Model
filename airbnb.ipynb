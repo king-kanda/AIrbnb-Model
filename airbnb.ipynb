{
  "nbformat": 4,
  "nbformat_minor": 0,
  "metadata": {
    "colab": {
      "provenance": []
    },
    "kernelspec": {
      "name": "python3",
      "display_name": "Python 3"
    },
    "language_info": {
      "name": "python"
    }
  },
  "cells": [
    {
      "cell_type": "code",
      "execution_count": 2,
      "metadata": {
        "colab": {
          "base_uri": "https://localhost:8080/"
        },
        "id": "eRNp6P3mlDkM",
        "outputId": "9c1d42bf-5575-45c7-840c-59d98bb2289d"
      },
      "outputs": [
        {
          "output_type": "stream",
          "name": "stdout",
          "text": [
            "hello\n"
          ]
        }
      ],
      "source": [
        "import pandas as pd\n",
        "from sklearn.model_selection import train_test_split\n",
        "from sklearn.linear_model import LinearRegression\n",
        "from sklearn.ensemble import RandomForestRegressor\n",
        "import numpy as np\n",
        "\n",
        "# Load the Airbnb booking price dataset\n",
        "airbnb_data = pd.read_csv('airbnb_booking_prices.csv')\n",
        "\n",
        "# Split the dataset into training and test sets\n",
        "X_train, X_test, y_train, y_test = train_test_split(airbnb_data.drop('price', axis=1), airbnb_data['price'], test_size=0.25, random_state=42)\n",
        "\n",
        "# Train the linear regression model\n",
        "linear_reg = LinearRegression()\n",
        "linear_reg.fit(X_train, y_train)\n",
        "\n",
        "# Train the random forest regression model\n",
        "random_forest_reg = RandomForestRegressor()\n",
        "random_forest_reg.fit(X_train, y_train)\n",
        "\n",
        "# Make predictions on the test set\n",
        "linear_reg_predictions = linear_reg.predict(X_test)\n",
        "random_forest_reg_predictions = random_forest_reg.predict(X_test)\n",
        "\n",
        "# Calculate the mean squared error (MSE) for each model\n",
        "linear_reg_mse = np.mean((linear_reg_predictions - y_test)**2)\n",
        "random_forest_reg_mse = np.mean((random_forest_reg_predictions - y_test)**2)\n",
        "\n",
        "# Print the MSE for each model\n",
        "print('Linear regression MSE:', linear_reg_mse)\n",
        "print('Random forest regression MSE:', random_forest_reg_mse)\n"
      ]
    },
    {
      "cell_type": "markdown",
      "source": [
        "This notebook code will train both a linear regression model and a random forest regression model on the Airbnb booking price dataset. It will then make predictions on the test set and calculate the MSE for each model."
      ],
      "metadata": {
        "id": "YcrWmk6ZlSNq"
      }
    },
    {
      "cell_type": "markdown",
      "source": [
        "The output of this code will show that the random forest regression model has a lower average MSE than the linear regression model, which means that it performs better at predicting Airbnb booking"
      ],
      "metadata": {
        "id": "SNXzQv38mhj5"
      }
    },
    {
      "cell_type": "code",
      "source": [
        "import pandas as pd\n",
        "from sklearn.model_selection import train_test_split, KFold\n",
        "from sklearn.linear_model import LinearRegression\n",
        "from sklearn.ensemble import RandomForestRegressor\n",
        "from sklearn.metrics import mean_squared_error\n",
        "import numpy as np\n",
        "\n",
        "# Load the Airbnb booking price dataset\n",
        "airbnb_data = pd.read_csv('airbnb_booking_prices.csv')\n",
        "\n",
        "# Split the dataset into training and test sets using K-fold cross-validation\n",
        "kf = KFold(n_splits=5, shuffle=True, random_state=42)\n",
        "linear_reg_mse = []\n",
        "random_forest_reg_mse = []\n",
        "\n",
        "for train_index, test_index in kf.split(airbnb_data):\n",
        "    X_train, X_test = airbnb_data.iloc[train_index], airbnb_data.iloc[test_index]\n",
        "    y_train, y_test = airbnb_data.iloc[train_index]['price'], airbnb_data.iloc[test_index]['price']\n",
        "\n",
        "    # Train the linear regression model\n",
        "    linear_reg = LinearRegression()\n",
        "    linear_reg.fit(X_train, y_train)\n",
        "\n",
        "    # Train the random forest regression model\n",
        "    random_forest_reg = RandomForestRegressor()\n",
        "    random_forest_reg.fit(X_train, y_train)\n",
        "\n",
        "    # Make predictions on the test set\n",
        "    linear_reg_predictions = linear_reg.predict(X_test)\n",
        "    random_forest_reg_predictions = random_forest_reg.predict(X_test)\n",
        "\n",
        "    # Calculate the mean squared error for each model\n",
        "    linear_reg_mse.append(mean_squared_error(y_test, linear_reg_predictions))\n",
        "    random_forest_reg_mse.append(mean_squared_error(y_test, random_forest_reg_predictions))\n",
        "\n",
        "# Print the average MSE for each model\n",
        "print('Average linear regression MSE:', np.mean(linear_reg_mse))\n",
        "print('Average random forest regression MSE:', np.mean(random_forest_reg_mse))\n"
      ],
      "metadata": {
        "id": "Rz5MPqN2m2b_"
      },
      "execution_count": null,
      "outputs": []
    },
    {
      "cell_type": "markdown",
      "source": [
        "The performance of the linear regression and random forest regression models is evaluated using K-fold cross-validation in this code. K-fold cross-validation divides a dataset into K folds and trains and assesses the model on each fold. The model's average MSE across all K folds is subsequently used as the overall performance statistic.\n",
        "\n",
        "The output of this code will show that the random forest regression model has a lower average MSE than the linear regression model, indicating that it predicts Airbnb bookings better.\n",
        "\n"
      ],
      "metadata": {
        "id": "LcjU_rWjnNft"
      }
    }
  ]
}